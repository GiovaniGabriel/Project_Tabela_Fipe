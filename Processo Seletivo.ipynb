{
 "cells": [
  {
   "cell_type": "markdown",
   "metadata": {},
   "source": [
    "<h1><CENTER>TABELA FIPE </CENTER></h1>\n",
    "<br>"
   ]
  },
  {
   "cell_type": "markdown",
   "metadata": {},
   "source": [
    "<H1><CENTER> SOBRE O PROJETO </CENTER> </H1>\n",
    "<BR>\n",
    "<CENTER> A Tabela Fipe expressa preços médios de veículos no mercado nacional, servindo apenas como um parâmetro para negociações ou avaliações. Os preços efetivamente praticados variam em função da região, conservação, cor, acessórios ou qualquer outro fator que possa influenciar as condições de oferta e procura por um veículo específico.</CENTER>\n",
    "<CENTER>URL BASE PARA ACESSO A API: https://parallelum.com.br/fipe/api/v1 </CENTER>"
   ]
  },
  {
   "cell_type": "markdown",
   "metadata": {},
   "source": [
    "<H1> <CENTER> TIPOS DE VEÍCULOS </CENTER> </H1>"
   ]
  },
  {
   "cell_type": "markdown",
   "metadata": {},
   "source": [
    "<center>Primeiro liste o tipo de veículo que você deseja, através da ação marcas e sem nenhum parâmetro:</center>\n",
    "<center>Você pode alterar na url \"carros\" para \"motos\" ou \"caminhoes\" de acordo com a sua necessidade e utilizar a requisição '/marcas'</center>\n",
    "REQUEST:\n",
    "<br>\n",
    "GET: https://parallelum.com.br/fipe/api/v1/carros/marcas - Carros\n",
    "<br>\n",
    "GET: https://parallelum.com.br/fipe/api/v1/motos/marcas  - Motos\n",
    "<br>\n",
    "GET: https://parallelum.com.br/fipe/api/v1/caminhoes/marcas - Caminhões"
   ]
  },
  {
   "cell_type": "markdown",
   "metadata": {},
   "source": [
    "RESPONSE:\n",
    " {\n",
    "        \"nome\": \"Troller\",\n",
    "        \"codigo\": \"57\"\n",
    "    },\n",
    "    {\n",
    "        \"nome\": \"Volvo\",\n",
    "        \"codigo\": \"58\"\n",
    "    },\n",
    "    {\n",
    "        \"nome\": \"VW - VolksWagen\",\n",
    "        \"codigo\": \"59\"\n",
    "    },\n",
    "    {\n",
    "        \"nome\": \"Wake\",\n",
    "        \"codigo\": \"163\"\n",
    "    },\n",
    "    {\n",
    "        \"nome\": \"Walk\",\n",
    "        \"codigo\": \"120\"\n",
    "    }"
   ]
  },
  {
   "cell_type": "markdown",
   "metadata": {},
   "source": [
    "<h1><CENTER>MODELOS</CENTER><H1>"
   ]
  },
  {
   "cell_type": "markdown",
   "metadata": {},
   "source": [
    "Após ter acesso a lista de marcas do tipo de veículo desejado, basta utilizar o codigo da fabricante para que seja disponibilizado a lista com os modelos\n",
    "Por exemplo a marca VW - VolksWagen (59) e utilizar a requisição 'modelos'\n",
    "\n",
    "REQUEST: \n",
    "GET: https://parallelum.com.br/fipe/api/v1/carros/marcas/59/modelos"
   ]
  },
  {
   "cell_type": "markdown",
   "metadata": {},
   "source": [
    "RESPONSE:\n",
    " {\n",
    "            \"nome\": \"VIRTUS 1.6 MSI Flex 16V 4p Aut.\",\n",
    "            \"codigo\": 8427\n",
    "        },\n",
    "        {\n",
    "            \"nome\": \"VIRTUS 1.6 MSI Flex 16V 5p Mec.\",\n",
    "            \"codigo\": 8184\n",
    "        },\n",
    "        {\n",
    "            \"nome\": \"VIRTUS Comfort. 200 TSI 1.0 Flex 12V Aut\",\n",
    "            \"codigo\": 8185\n",
    "        },\n",
    "        {\n",
    "            \"nome\": \"VIRTUS GTS 1.4 TSI 16V Flex 4p\",\n",
    "            \"codigo\": 8997\n",
    "        },\n",
    "        {\n",
    "            \"nome\": \"VIRTUS Highline 200 TSI 1.0 Flex 12V Aut\",\n",
    "            \"codigo\": 8186\n",
    "        },\n",
    "        {\n",
    "            \"nome\": \"VIRTUS Sense 1.6 Flex 16V 5p Aut. \",\n",
    "            \"codigo\": 9599\n",
    "        },\n",
    "        {\n",
    "            \"nome\": \"VOYAGE  Trendline 1.0 T.Flex 8V 4p\",\n",
    "            \"codigo\": 6808\n",
    "        },\n",
    "        {\n",
    "            \"nome\": \"VOYAGE 1.0 Flex 12V 4p\",\n",
    "            \"codigo\": 8325\n",
    "        },\n",
    "        {\n",
    "            \"nome\": \"VOYAGE 1.0/1.0 City Mi Total Flex 8V 4p\",\n",
    "            \"codigo\": 4752\n",
    "        },\n",
    "        {\n",
    "            \"nome\": \"VOYAGE 1.6 MSI Flex 16V 4p Aut.\",\n",
    "            \"codigo\": 8464\n",
    "        },\n",
    "        {\n",
    "            \"nome\": \"VOYAGE 1.6 MSI Flex 8V 4p\",\n",
    "            \"codigo\": 8326\n",
    "        },\n",
    "        {\n",
    "            \"nome\": \"VOYAGE 1.6/1.6 City  Mi Total Flex 8V 4p\",\n",
    "            \"codigo\": 4753\n",
    "        },\n",
    "        {\n",
    "            \"nome\": \"VOYAGE C/CL/Fox 1.6\",\n",
    "            \"codigo\": 2571\n",
    "        },\n",
    "        {\n",
    "            \"nome\": \"VOYAGE CL 1.8\",\n",
    "            \"codigo\": 2572\n",
    "        },\n",
    "        {\n",
    "            \"nome\": \"VOYAGE COMF/Highli. 1.6 T.Flex 8V 4p\",\n",
    "            \"codigo\": 4754\n",
    "        },\n",
    "        {\n",
    "            \"nome\": \"VOYAGE Comfortline  1.0 T.Flex 8V 4p\",\n",
    "            \"codigo\": 6810\n",
    "        },\n",
    "        {\n",
    "            \"nome\": \"VOYAGE Comfortline 1.0 T.Flex 12V 4p\",\n",
    "            \"codigo\": 7523\n",
    "        },\n",
    "        {\n",
    "            \"nome\": \"VOYAGE Evidence 1.6 Total Flex 8V 4p\",\n",
    "            \"codigo\": 6811\n",
    "        },\n",
    "        {\n",
    "            \"nome\": \"VOYAGE GL 1.8 4p (Argentino)\",\n",
    "            \"codigo\": 2573\n",
    "        },\n",
    "        {\n",
    "            \"nome\": \"VOYAGE GL/ Special 1.6/ 1.8\",\n",
    "            \"codigo\": 2574\n",
    "        },\n",
    "        {\n",
    "            \"nome\": \"VOYAGE I MOTION  Trendline 1.6 T.Flex 8V\",\n",
    "            \"codigo\": 6812\n",
    "        },\n",
    "        "
   ]
  },
  {
   "cell_type": "markdown",
   "metadata": {},
   "source": [
    "<h1><center> ANO DE FABRICAÇÃO </CENTER><H1>"
   ]
  },
  {
   "cell_type": "markdown",
   "metadata": {},
   "source": [
    "Após escolher o veículo desejado é possível consultar os modelos e os anos disponíveis para uma futura consulta de preços. Por exemplo VIRTUS 1.6 MSI Flex 16V 4p Aut COD 8427 '/ANOS'\n",
    "REQUEST:\n",
    "Get: https://parallelum.com.br/fipe/api/v1/carros/marcas/59/modelos/8427/anos"
   ]
  },
  {
   "cell_type": "markdown",
   "metadata": {},
   "source": [
    "RESPONSE:\n",
    "[\n",
    "    {\n",
    "        \"nome\": \"32000 Gasolina\",\n",
    "        \"codigo\": \"32000-1\"\n",
    "    },\n",
    "    {\n",
    "        \"nome\": \"2022 Gasolina\",\n",
    "        \"codigo\": \"2022-1\"\n",
    "    },\n",
    "    {\n",
    "        \"nome\": \"2021 Gasolina\",\n",
    "        \"codigo\": \"2021-1\"\n",
    "    },\n",
    "    {\n",
    "        \"nome\": \"2020 Gasolina\",\n",
    "        \"codigo\": \"2020-1\"\n",
    "    },\n",
    "    {\n",
    "        \"nome\": \"2019 Gasolina\",\n",
    "        \"codigo\": \"2019-1\"\n",
    "    }\n",
    "]"
   ]
  },
  {
   "cell_type": "markdown",
   "metadata": {},
   "source": [
    "<H1><CENTER>VALOR</CENTER></H1>"
   ]
  },
  {
   "cell_type": "markdown",
   "metadata": {},
   "source": [
    "Por fim adicionando mais um parâmetro será possível visualizar o preço corrente da Tabela FIPE para este veículo/modelo/ano. Continuando com o exemplo a cima para obter o valor de um veículo do ano 2022 a Gasolina utilizaremos o id '2022-1':\n",
    "REQUEST:\n",
    "https://parallelum.com.br/fipe/api/v1/carros/marcas/59/modelos/8427/anos/2022-1"
   ]
  },
  {
   "cell_type": "markdown",
   "metadata": {},
   "source": [
    "RESPONSE:"
   ]
  },
  {
   "cell_type": "markdown",
   "metadata": {},
   "source": [
    "{\n",
    "    \"Valor\": \"R$ 95.982,00\",\n",
    "    \"Marca\": \"VW - VolksWagen\",\n",
    "    \"Modelo\": \"VIRTUS 1.6 MSI Flex 16V 4p Aut.\",\n",
    "    \"AnoModelo\": 2022,\n",
    "    \"Combustivel\": \"Gasolina\",\n",
    "    \"CodigoFipe\": \"005500-0\",\n",
    "    \"MesReferencia\": \"setembro de 2022 \",\n",
    "    \"TipoVeiculo\": 1,\n",
    "    \"SiglaCombustivel\": \"G\"\n",
    "}"
   ]
  },
  {
   "cell_type": "markdown",
   "metadata": {},
   "source": [
    "<H3>Com isto descubrimos os detalhes do veículo <B>VIRTUS 1.6 MSI Flex 16V 4p Aut.</B> </H3>\n",
    "\n"
   ]
  }
 ],
 "metadata": {
  "kernelspec": {
   "display_name": "Python 3",
   "language": "python",
   "name": "python3"
  },
  "language_info": {
   "codemirror_mode": {
    "name": "ipython",
    "version": 3
   },
   "file_extension": ".py",
   "mimetype": "text/x-python",
   "name": "python",
   "nbconvert_exporter": "python",
   "pygments_lexer": "ipython3",
   "version": "3.7.9"
  }
 },
 "nbformat": 4,
 "nbformat_minor": 2
}
